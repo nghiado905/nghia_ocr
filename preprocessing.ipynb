{
 "cells": [
  {
   "cell_type": "code",
   "execution_count": null,
   "metadata": {},
   "outputs": [],
   "source": [
    "import torch\n",
    "import numpy as np\n",
    "from vietocr.tool.predictor import Predictor\n",
    "from vietocr.tool.config import Cfg\n",
    "from PIL import Image\n",
    "import os\n",
    "\n",
    "print(torch.__version__)\n"
   ]
  },
  {
   "cell_type": "markdown",
   "metadata": {},
   "source": [
    "Folder Path"
   ]
  },
  {
   "cell_type": "code",
   "execution_count": null,
   "metadata": {},
   "outputs": [],
   "source": [
    "folder_path = r'D:\\Private\\Project\\kaggle\\VietOCR\\Recognition-Table-with-Table_Transformer-and-vietOCR\\data_OCR\\final_data'\n",
    "label_folder = r'D:\\Private\\Project\\kaggle\\VietOCR\\Recognition-Table-with-Table_Transformer-and-vietOCR\\data_OCR\\labels' \n"
   ]
  },
  {
   "cell_type": "markdown",
   "metadata": {},
   "source": [
    "Merge label\n"
   ]
  },
  {
   "cell_type": "code",
   "execution_count": null,
   "metadata": {},
   "outputs": [],
   "source": [
    "import os\n",
    "\n",
    "def merge_txt_files(folder_path, output_file):\n",
    "    with open(output_file, \"w\", encoding=\"utf-8\") as f_out:\n",
    "        for file_name in os.listdir(folder_path):\n",
    "            file_path = os.path.join(folder_path, file_name)\n",
    "\n",
    "            if file_name.endswith(\".txt\") and os.path.isfile(file_path):\n",
    "                with open(file_path, \"r\", encoding=\"utf-8\") as f_in:\n",
    "                    f_out.write(f_in.read())\n",
    "\n",
    "    print(f\"✅ Merged all .txt files into: {output_file}\")\n",
    "\n",
    "training_folder = r\"D:\\Private\\Project\\kaggle\\VietOCR\\Recognition-Table-with-Table_Transformer-and-vietOCR\\data_OCR\\labels\"\n",
    "output_file = r\"D:\\Private\\Project\\kaggle\\VietOCR\\Recognition-Table-with-Table_Transformer-and-vietOCR\\data_OCR\\train_label.txt\"\n",
    "\n",
    "merge_txt_files(training_folder, output_file)"
   ]
  },
  {
   "cell_type": "markdown",
   "metadata": {},
   "source": [
    "Split dataset"
   ]
  },
  {
   "cell_type": "code",
   "execution_count": null,
   "metadata": {},
   "outputs": [],
   "source": [
    "# import os\n",
    "# import shutil\n",
    "# from sklearn.model_selection import train_test_split\n",
    "\n",
    "\n",
    "# # create train_data/old_images to split data\n",
    "# data_dir = r\"D:\\Private\\Project\\kaggle\\VietOCR\\Recognition-Table-with-Table_Transformer-and-vietOCR\\train_data\\old_images\"\n",
    "# os.makedirs(data_dir, exist_ok=True)\n",
    "\n",
    "# train_dir = os.path.join(data_dir, \"train\")\n",
    "# eval_dir = os.path.join(data_dir, \"eval\")\n",
    "# test_dir = os.path.join(data_dir, \"test\")\n",
    "# os.makedirs(train_dir, exist_ok=True)\n",
    "# os.makedirs(eval_dir, exist_ok=True)\n",
    "# os.makedirs(test_dir, exist_ok=True)\n",
    "\n",
    "\n",
    "# #File train\n",
    "# label_file = r\"D:\\Private\\Project\\kaggle\\VietOCR\\Recognition-Table-with-Table_Transformer-and-vietOCR\\data_OCR\\train_label.txt\"\n",
    "# with open(label_file, \"r\", encoding=\"utf-8\") as f:\n",
    "#     lines = f.readlines()\n",
    "\n",
    "# image_paths = []\n",
    "# labels = []\n",
    "# for line in lines:\n",
    "#     image_path, label = line.strip().split(\"\\t\")\n",
    "#     image_paths.append(image_path)\n",
    "#     labels.append(label)\n",
    "\n",
    "# train_paths, temp_paths, train_labels, temp_labels = train_test_split(\n",
    "#     image_paths, labels, test_size=0.2, random_state=42\n",
    "# )\n",
    "# eval_paths, test_paths, eval_labels, test_labels = train_test_split(\n",
    "#     temp_paths, temp_labels, test_size=0.5, random_state=42\n",
    "# )\n",
    "\n",
    "# def move_images_and_create_labels(image_paths, labels, target_dir, label_file):\n",
    "#     with open(label_file, \"w\", encoding=\"utf-8\") as f:\n",
    "#         for img_path, label in zip(image_paths, labels):\n",
    "#             img_name = os.path.basename(img_path)\n",
    "#             new_img_path = os.path.join(target_dir, img_name)\n",
    "#             shutil.copy(img_path, new_img_path)\n",
    "#             abs_path = os.path.abspath(new_img_path) \n",
    "#             abs_path = abs_path.replace(\"\\\\\", \"/\")\n",
    "#             f.write(f\"{abs_path}\\t{label}\\n\")\n",
    "\n",
    "# move_images_and_create_labels(\n",
    "#     train_paths, train_labels, train_dir, os.path.join(data_dir, \"rec_gt_train.txt\")\n",
    "# )\n",
    "# move_images_and_create_labels(\n",
    "#     eval_paths, eval_labels, eval_dir, os.path.join(data_dir, \"rec_gt_eval.txt\")\n",
    "# )\n",
    "# move_images_and_create_labels(\n",
    "#     test_paths, test_labels, test_dir, os.path.join(data_dir, \"rec_gt_test.txt\")\n",
    "# )\n",
    "\n",
    "# print(\"Dữ liệu đã được tách thành công!\")"
   ]
  },
  {
   "cell_type": "code",
   "execution_count": null,
   "metadata": {},
   "outputs": [],
   "source": [
    "import os\n",
    "import shutil\n",
    "from sklearn.model_selection import train_test_split\n",
    "\n",
    "base_dir = r\"D:\\Private\\Project\\kaggle\\VietOCR\\Recognition-Table-with-Table_Transformer-and-vietOCR\"\n",
    "\n",
    "data_dir = os.path.join(base_dir, 'train_data/old_images')\n",
    "os.makedirs(data_dir, exist_ok=True)\n",
    "\n",
    "train_dir = os.path.join(data_dir, \"train\")\n",
    "eval_dir = os.path.join(data_dir, \"eval\")\n",
    "test_dir = os.path.join(data_dir, \"test\")\n",
    "\n",
    "for folder in [train_dir, eval_dir, test_dir]:\n",
    "    os.makedirs(folder, exist_ok=True)\n",
    "\n",
    "label_file = os.path.join(base_dir, \"data_OCR/train_label.txt\")\n",
    "\n",
    "if not os.path.exists(label_file):\n",
    "    raise FileNotFoundError(f\"File nhãn không tồn tại: {label_file}\")\n",
    "\n",
    "image_paths = []\n",
    "labels = []\n",
    "\n",
    "with open(label_file, \"r\", encoding=\"utf-8\") as f:\n",
    "    lines = f.readlines()\n",
    "\n",
    "    for line in lines:\n",
    "        try:\n",
    "            image_path, label = line.strip().split(\"\\t\")\n",
    "\n",
    "            if not os.path.isabs(image_path):\n",
    "                abs_image_path = os.path.abspath(os.path.join(base_dir, image_path))\n",
    "            else:\n",
    "                abs_image_path = os.path.abspath(image_path)\n",
    "\n",
    "            abs_image_path = abs_image_path.replace(\"\\\\\", \"/\")\n",
    "\n",
    "            if os.path.exists(abs_image_path):\n",
    "                image_paths.append(abs_image_path)\n",
    "                labels.append(label)\n",
    "            else:\n",
    "                print(f\"Cảnh báo: Không tìm thấy ảnh - {abs_image_path}\")\n",
    "        except ValueError:\n",
    "            print(f\"Bỏ qua dòng lỗi định dạng: {line.strip()}\")\n",
    "\n",
    "if not image_paths:\n",
    "    raise ValueError(\"Không có ảnh hợp lệ trong danh sách!\")\n",
    "\n",
    "train_paths, temp_paths, train_labels, temp_labels = train_test_split(\n",
    "    image_paths, labels, test_size=0.2, random_state=42\n",
    ")\n",
    "eval_paths, test_paths, eval_labels, test_labels = train_test_split(\n",
    "    temp_paths, temp_labels, test_size=0.5, random_state=42\n",
    ")\n",
    "\n",
    "def move_images_and_create_labels(image_paths, labels, target_dir, label_file):\n",
    "    with open(label_file, \"w\", encoding=\"utf-8\") as f:\n",
    "        for img_path, label in zip(image_paths, labels):\n",
    "            try:\n",
    "                img_name = os.path.basename(img_path)\n",
    "                new_img_path = os.path.join(target_dir, img_name)\n",
    "\n",
    "                shutil.copy(img_path, new_img_path)\n",
    "\n",
    "                abs_path = os.path.abspath(new_img_path).replace(\"\\\\\", \"/\")\n",
    "\n",
    "                f.write(f\"{abs_path}\\t{label}\\n\")\n",
    "            except Exception as e:\n",
    "                print(f\"Lỗi khi di chuyển ảnh {img_path}: {e}\")\n",
    "\n",
    "move_images_and_create_labels(train_paths, train_labels, train_dir, os.path.join(data_dir, \"rec_gt_train.txt\"))\n",
    "move_images_and_create_labels(eval_paths, eval_labels, eval_dir, os.path.join(data_dir, \"rec_gt_eval.txt\"))\n",
    "move_images_and_create_labels(test_paths, test_labels, test_dir, os.path.join(data_dir, \"rec_gt_test.txt\"))\n",
    "\n",
    "print(\"✅ Dữ liệu đã được tách thành công!\")\n",
    "print(f\"📂 Số lượng ảnh train: {len(train_paths)}\")\n",
    "print(f\"📂 Số lượng ảnh eval: {len(eval_paths)}\")\n",
    "print(f\"📂 Số lượng ảnh test: {len(test_paths)}\")\n",
    "\n",
    "for folder, name in zip([train_dir, eval_dir, test_dir], [\"train\", \"eval\", \"test\"]):\n",
    "    print(f\"📁 Thư mục {name}: {folder}, có {len(os.listdir(folder))} ảnh\")\n",
    "\n",
    "check_img = os.path.join(train_dir, \"img_280.jpg\")\n",
    "check_img = os.path.abspath(check_img).replace(\"\\\\\", \"/\")\n",
    "if os.path.exists(check_img):\n",
    "    print(f\"Ảnh tồn tại: {check_img}\")\n",
    "else:\n",
    "    print(f\"Ảnh không tồn tại: {check_img}\")\n"
   ]
  },
  {
   "cell_type": "markdown",
   "metadata": {},
   "source": [
    "Check vocab\n"
   ]
  },
  {
   "cell_type": "code",
   "execution_count": null,
   "metadata": {},
   "outputs": [],
   "source": [
    "import yaml\n",
    "\n",
    "yaml_path = r\"D:\\Private\\Project\\kaggle\\VietOCR\\Recognition-Table-with-Table_Transformer-and-vietOCR\\config\\config_after_trainer.yml\"  \n",
    "    config = yaml.safe_load(f)\n",
    "\n",
    "current_vocab = config.get(\"vocab\", \"\")\n",
    "print(\"Số ký tự hiện có:\", len(current_vocab))\n",
    "\n"
   ]
  },
  {
   "cell_type": "code",
   "execution_count": null,
   "metadata": {},
   "outputs": [],
   "source": [
    "with open(yaml_path, \"r\", encoding=\"utf-8\") as file:\n",
    "    for line in file:\n",
    "        try:\n",
    "            parsed_line = yaml.safe_load(line) \n",
    "            print(parsed_line)\n",
    "        except yaml.YAMLError as e:\n",
    "            print(f\"Lỗi khi phân tích YAML: {e}\")"
   ]
  },
  {
   "cell_type": "markdown",
   "metadata": {},
   "source": [
    "Fine tune"
   ]
  },
  {
   "cell_type": "code",
   "execution_count": null,
   "metadata": {},
   "outputs": [],
   "source": [
    "from vietocr.tool.config import Cfg\n",
    "from vietocr.model.trainer import Trainer"
   ]
  },
  {
   "cell_type": "code",
   "execution_count": null,
   "metadata": {},
   "outputs": [],
   "source": [
    "\n",
    "config = Cfg.load_config_from_file(yaml_path)  \n",
    "trainer = Trainer(config, pretrained=True)\n",
    "\n",
    "trainer.train()\n"
   ]
  },
  {
   "cell_type": "code",
   "execution_count": null,
   "metadata": {},
   "outputs": [],
   "source": [
    "!python main.py"
   ]
  }
 ],
 "metadata": {
  "kernelspec": {
   "display_name": "Python 3",
   "language": "python",
   "name": "python3"
  },
  "language_info": {
   "codemirror_mode": {
    "name": "ipython",
    "version": 3
   },
   "file_extension": ".py",
   "mimetype": "text/x-python",
   "name": "python",
   "nbconvert_exporter": "python",
   "pygments_lexer": "ipython3",
   "version": "3.11.9"
  }
 },
 "nbformat": 4,
 "nbformat_minor": 2
}
